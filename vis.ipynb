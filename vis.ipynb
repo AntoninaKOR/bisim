{
 "cells": [
  {
   "cell_type": "code",
   "execution_count": null,
   "id": "13d6d6b9",
   "metadata": {},
   "outputs": [],
   "source": [
    "from plot import *\n",
    "main(elements.Flags(\n",
    "      pattern='**/scores.jsonl',\n",
    "      indirs=[''],\n",
    "      outdir='',\n",
    "      methods='.*',\n",
    "      tasks='.*',\n",
    "      newstyle=True,\n",
    "      indir_prefix=False,\n",
    "      workers=16,\n",
    "      xkeys=['xs', 'step'],\n",
    "      ykeys=['ys', 'episode/score'],\n",
    "      ythres=0.0,\n",
    "      xlim=0,\n",
    "      ylim=0,\n",
    "      binsize=0,\n",
    "      bins=30,\n",
    "      cols=0,\n",
    "      legendcols=0,\n",
    "      size=[3, 3],\n",
    "      xticks=4,\n",
    "      yticks=10,\n",
    "      stats=['runs', 'auto'],\n",
    "      agg=True,\n",
    "      todf='',\n",
    "  ).parse())"
   ]
  }
 ],
 "metadata": {
  "language_info": {
   "name": "python"
  }
 },
 "nbformat": 4,
 "nbformat_minor": 5
}
